{
 "cells": [
  {
   "cell_type": "code",
   "execution_count": 1,
   "metadata": {},
   "outputs": [],
   "source": [
    "import numpy as np\n",
    "\n",
    "# Sigmoid activation function and its derivative\n",
    "def sigmoid(x):\n",
    "    return 1 / (1 + np.exp(-x))\n",
    "\n",
    "def sigmoid_derivative(x):\n",
    "    return x * (1 - x)\n",
    "\n",
    "\n",
    "epochs = 10000\n",
    "lr = 0.1\n",
    "inputLayerNeurons, hiddenLayerNeurons, outputLayerNeurons = 2, 2, 1"
   ]
  },
  {
   "cell_type": "code",
   "execution_count": 2,
   "metadata": {},
   "outputs": [
    {
     "data": {
      "text/plain": [
       "(array([[0, 0],\n",
       "        [0, 1],\n",
       "        [1, 0],\n",
       "        [1, 1]]),\n",
       " array([[0],\n",
       "        [1],\n",
       "        [1],\n",
       "        [0]]))"
      ]
     },
     "execution_count": 2,
     "metadata": {},
     "output_type": "execute_result"
    }
   ],
   "source": [
    "# Input datasets\n",
    "inputs = np.array([[0,0],[0,1],[1,0],[1,1]])\n",
    "expected_output = np.array([[0],[1],[1],[0]])\n",
    "inputs, expected_output"
   ]
  },
  {
   "cell_type": "code",
   "execution_count": 103,
   "metadata": {},
   "outputs": [
    {
     "data": {
      "text/plain": [
       "(array([[0.91687358, 0.58854191],\n",
       "        [0.26504775, 0.78320538]]),\n",
       " array([[0.91800106, 0.82735501]]),\n",
       " array([[0.72795148],\n",
       "        [0.26048042]]),\n",
       " array([[0.9117634]]))"
      ]
     },
     "execution_count": 103,
     "metadata": {},
     "output_type": "execute_result"
    }
   ],
   "source": [
    "# Initializing weights and biases (w/ a random seed)\n",
    "np.random.seed(314)\n",
    "hidden_weights = np.random.uniform(size=(inputLayerNeurons,hiddenLayerNeurons))\n",
    "hidden_bias =np.random.uniform(size=(1,hiddenLayerNeurons))\n",
    "output_weights = np.random.uniform(size=(hiddenLayerNeurons,outputLayerNeurons))\n",
    "output_bias = np.random.uniform(size=(1,outputLayerNeurons))\n",
    "hidden_weights, hidden_bias, output_weights, output_bias\n"
   ]
  },
  {
   "cell_type": "code",
   "execution_count": 528,
   "metadata": {},
   "outputs": [
    {
     "name": "stdout",
     "output_type": "stream",
     "text": [
      "[[0 0]\n",
      " [0 1]\n",
      " [1 0]\n",
      " [1 1]] \n",
      " [[0.91919086 0.50688659]\n",
      " [0.31820489 0.72428374]]\n",
      "[[0.         0.        ]\n",
      " [0.31820489 0.72428374]\n",
      " [0.91919086 0.50688659]\n",
      " [1.23739575 1.23117033]]\n",
      "err: -0.0109\n"
     ]
    }
   ],
   "source": [
    "# Training algorithm\n",
    "# for _ in range(epochs):\n",
    "# Forward Propagation\n",
    "print(inputs, '\\n', hidden_weights)\n",
    "hidden_layer_activation = inputs @ hidden_weights # size = (4,2) * (2,2) = (4,2)\n",
    "print(hidden_layer_activation)\n",
    "hidden_layer_activation += hidden_bias\n",
    "hidden_layer_output = sigmoid(hidden_layer_activation)\n",
    "\n",
    "output_layer_activation = hidden_layer_output @ output_weights # size = (4,2) * (2,1) = (4,1)\n",
    "output_layer_activation += output_bias\n",
    "predicted_output = sigmoid(output_layer_activation)\n",
    "# if _ % 1000 == 0:\n",
    "    # print(f'{predicted_output:.2f}')\n",
    "\n",
    "# Backpropagation -> d_L/d_weights = d_Loss/d_activation_output * d_activation_output/d_activation_input * d_activation_input/d_weights\n",
    "error = expected_output - predicted_output\n",
    "print(f'err: {error.sum():.4f}')\n",
    "d_predicted_output = error * sigmoid_derivative(predicted_output)\n",
    "\n",
    "# error_hidden_layer = d_predicted_output.dot(output_weights.T)\n",
    "error_hidden_layer = d_predicted_output @ output_weights.T\n",
    "d_hidden_layer = error_hidden_layer * sigmoid_derivative(hidden_layer_output)\n",
    "\n",
    "# Updating Weights and Biases\n",
    "output_weights += lr * (hidden_layer_output.T @ d_predicted_output)\n",
    "\n",
    "output_bias += np.sum(d_predicted_output,axis=0, keepdims=True) * lr\n",
    "\n",
    "hidden_weights += lr * (inputs.T @ d_hidden_layer)\n",
    "\n",
    "hidden_bias += np.sum(d_hidden_layer,axis=0, keepdims=True) * lr"
   ]
  },
  {
   "cell_type": "code",
   "execution_count": 5,
   "metadata": {},
   "outputs": [
    {
     "name": "stdout",
     "output_type": "stream",
     "text": [
      "Final hidden weights:  [[0.85230067 0.51454222]\n",
      " [0.6075769  0.71734763]]\n",
      "Final hidden bias:  [[0.04617299 0.25712778]]\n",
      "Final output weights:  [[0.86275212]\n",
      " [0.60983244]]\n",
      "Final output bias:  [[0.0628867]]\n"
     ]
    }
   ],
   "source": [
    "# Print final weights for curiosity\n",
    "print(\"Final hidden weights: \",hidden_weights)\n",
    "print(\"Final hidden bias: \",hidden_bias)\n",
    "print(\"Final output weights: \",output_weights)\n",
    "print(\"Final output bias: \",output_bias)\n"
   ]
  }
 ],
 "metadata": {
  "kernelspec": {
   "display_name": "Python 3",
   "language": "python",
   "name": "python3"
  },
  "language_info": {
   "codemirror_mode": {
    "name": "ipython",
    "version": 3
   },
   "file_extension": ".py",
   "mimetype": "text/x-python",
   "name": "python",
   "nbconvert_exporter": "python",
   "pygments_lexer": "ipython3",
   "version": "3.11.7"
  }
 },
 "nbformat": 4,
 "nbformat_minor": 2
}
